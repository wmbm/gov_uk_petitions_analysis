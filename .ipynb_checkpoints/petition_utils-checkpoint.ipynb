{
 "cells": [
  {
   "cell_type": "code",
   "execution_count": null,
   "id": "613bc5bc",
   "metadata": {},
   "outputs": [],
   "source": [
    "import os\n",
    "import json\n",
    "import pandas as pd\n",
    "\n",
    "# Useful functions - Convert json files into single csv\n",
    "def convert_json_to_df(data_file):\n",
    "    with open(data_file, \"r\") as read_file:\n",
    "        data = json.load(read_file)\n",
    "\n",
    "    data = pd.json_normalize(data['data'])\n",
    "    return data\n",
    "\n",
    "def get_files_in_folders(base_path, types):\n",
    "    all_file_paths = []\n",
    "    for i in types:\n",
    "        files = os.listdir(base_path + i)\n",
    "        full_path_files = [base_path + i + '/' + file for file in files]\n",
    "        all_file_paths.extend(full_path_files)\n",
    "    return all_file_paths\n",
    "\n",
    "def extract_specific_attribute(full_file_paths, attributes):\n",
    "    list_of_dataframes = []\n",
    "    for data_file in full_file_paths:\n",
    "        df = convert_json_to_df(data_file)\n",
    "        columns_to_extract = df.columns[df.columns.isin(attributes)] # Only filter attribute if present\n",
    "        list_of_dataframes.append(df[columns_to_extract]) \n",
    "    return combine_and_tidy_dfs(list_of_dataframes)\n",
    "\n",
    "\n",
    "def combine_and_tidy_dfs(list_of_dataframes, indexer='attributes.created_at'):\n",
    "    df = pd.concat(list_of_dataframes)\n",
    "    if df.columns[df.columns.isin([indexer])].any():\n",
    "        df[indexer] = pd.to_datetime(df[indexer])\n",
    "        df = df.set_index(indexer)\n",
    "        df = df.sort_index()\n",
    "    return df"
   ]
  }
 ],
 "metadata": {
  "kernelspec": {
   "display_name": "gov_uk_env",
   "language": "python",
   "name": "gov_uk_env"
  },
  "language_info": {
   "codemirror_mode": {
    "name": "ipython",
    "version": 3
   },
   "file_extension": ".py",
   "mimetype": "text/x-python",
   "name": "python",
   "nbconvert_exporter": "python",
   "pygments_lexer": "ipython3",
   "version": "3.9.5"
  }
 },
 "nbformat": 4,
 "nbformat_minor": 5
}
