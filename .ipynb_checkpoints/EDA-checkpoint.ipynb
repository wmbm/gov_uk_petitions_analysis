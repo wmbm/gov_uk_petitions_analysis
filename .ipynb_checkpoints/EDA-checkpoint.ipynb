{
 "cells": [
  {
   "cell_type": "code",
   "execution_count": 1,
   "id": "c8a8952c",
   "metadata": {},
   "outputs": [
    {
     "ename": "ModuleNotFoundError",
     "evalue": "No module named 'petition_utils'",
     "output_type": "error",
     "traceback": [
      "\u001b[0;31m---------------------------------------------------------------------------\u001b[0m",
      "\u001b[0;31mModuleNotFoundError\u001b[0m                       Traceback (most recent call last)",
      "Input \u001b[0;32mIn [1]\u001b[0m, in \u001b[0;36m<module>\u001b[0;34m\u001b[0m\n\u001b[0;32m----> 1\u001b[0m \u001b[38;5;28;01mfrom\u001b[39;00m \u001b[38;5;21;01mpetition_utils\u001b[39;00m \u001b[38;5;28;01mimport\u001b[39;00m convert_json_to_df\n",
      "\u001b[0;31mModuleNotFoundError\u001b[0m: No module named 'petition_utils'"
     ]
    }
   ],
   "source": [
    "from petition_utils import convert_json_to_df"
   ]
  },
  {
   "cell_type": "markdown",
   "id": "38760331",
   "metadata": {},
   "source": [
    "Number of votes over the history of online petitions"
   ]
  },
  {
   "cell_type": "code",
   "execution_count": null,
   "id": "f5a78b3d",
   "metadata": {},
   "outputs": [],
   "source": [
    "types = ['archived','closed']\n",
    "base_path = '/home/william/Datasets/petitions_website/'\n",
    "attributes = ['id','attributes.signature_count', 'attributes.created_at']\n",
    "full_file_paths = get_files_in_folders(base_path, types)\n",
    "full_df = extract_specific_attribute(full_file_paths, attributes)\n"
   ]
  },
  {
   "cell_type": "code",
   "execution_count": null,
   "id": "8049161f",
   "metadata": {},
   "outputs": [],
   "source": [
    "%matplotlib\n",
    "import matplotlib.pyplot as plt\n",
    "fig, ax = plt.subplots(2,1, figsize=(20,10), sharex=True)\n",
    "full_df['weekly_sum_of_signatures'] = full_df['attributes.signature_count'].rolling('7D', closed='left').sum()\n",
    "\n",
    "full_df[['weekly_sum_of_signatures']].plot(rot=45,alpha=0.5, ax=ax[0], color='r')\n",
    "full_df[['attributes.signature_count']].plot(rot=45,alpha=0.5, ax=ax[1], color='b')\n",
    "\n",
    "ax[1].set_ylabel('Number of votes')\n",
    "ax[0].set_ylabel('Number of votes')\n",
    "ax[1].set_xlabel('Date')"
   ]
  },
  {
   "cell_type": "markdown",
   "id": "9c6bdc80",
   "metadata": {},
   "source": [
    "List all attributes"
   ]
  },
  {
   "cell_type": "code",
   "execution_count": null,
   "id": "1e91a3d1",
   "metadata": {},
   "outputs": [],
   "source": [
    "types = ['archived','closed']\n",
    "base_path = '/home/william/Datasets/petitions_website/'\n",
    "full_file_paths = get_files_in_folders(base_path, types)\n",
    "\n",
    "def list_all_attributes(full_file_paths):\n",
    "    list_of_attributes = []\n",
    "    for data_file in full_file_paths:\n",
    "        #print(data_file)\n",
    "        df = convert_json_to_df(data_file).dropna(how='all', axis=1)\n",
    "        #print(df.columns)\n",
    "        list_of_attributes.extend(list(df.columns))\n",
    "    return set(list_of_attributes)\n",
    "\n",
    "ls_attr = list_all_attributes(full_file_paths)\n",
    "ls_attr"
   ]
  },
  {
   "cell_type": "markdown",
   "id": "0662ea71",
   "metadata": {},
   "source": [
    "Number of debated petitions"
   ]
  },
  {
   "cell_type": "code",
   "execution_count": null,
   "id": "b2859fd5",
   "metadata": {},
   "outputs": [],
   "source": [
    "types = ['archived','closed']\n",
    "base_path = '/home/william/Datasets/petitions_website/'\n",
    "attributes = ['id','attributes.signature_count', 'attributes.created_at', 'attributes.scheduled_debate_date',  \n",
    "              'attributes.debate.debate_pack_url',\n",
    "              'attributes.debate.debated_on',\n",
    "              'attributes.debate.overview',\n",
    "              'attributes.debate.transcript_url',\n",
    "              'attributes.debate.video_url',\n",
    "              'attributes.debate_outcome_at',\n",
    "              'attributes.debate_threshold_reached_at']\n",
    "full_file_paths = get_files_in_folders(base_path, types)\n",
    "full_df = extract_specific_attribute(full_file_paths, attributes)\n"
   ]
  },
  {
   "cell_type": "code",
   "execution_count": null,
   "id": "ae2f7983",
   "metadata": {},
   "outputs": [],
   "source": [
    "rint(\"Total debated petitions since 2017 :\", len(full_df['attributes.scheduled_debate_date'].dropna()))\n",
    "\n",
    "\"\"\"\n",
    "Except, the gov website has 71 parliamentary petitions debated since June 2020. Therefore this attribute isn't\n",
    "reliable.\n",
    "\n",
    "Try others...\n",
    "\"\"\"\n",
    "\n",
    "for col in full_df.columns:\n",
    "    print(col, len(full_df[col].dropna()))"
   ]
  },
  {
   "cell_type": "markdown",
   "id": "fec38bee",
   "metadata": {},
   "source": [
    "Validate no data is lost during preprocessing"
   ]
  },
  {
   "cell_type": "code",
   "execution_count": null,
   "id": "6aef90b2",
   "metadata": {},
   "outputs": [],
   "source": [
    "types = ['archived','closed']\n",
    "base_path = '/home/william/Datasets/petitions_website/'\n",
    "attributes = ['id','attributes.signature_count', 'attributes.created_at']\n",
    "full_file_paths = get_files_in_folders(base_path, types)\n",
    "len(full_file_paths)"
   ]
  },
  {
   "cell_type": "code",
   "execution_count": null,
   "id": "a8f578ae",
   "metadata": {},
   "outputs": [],
   "source": [
    "\n",
    "\n",
    "attributes = ['attributes.scheduled_debate_date',  \n",
    "              'attributes.debate.debate_pack_url',\n",
    "              'attributes.debate.debated_on',\n",
    "              'attributes.debate.overview',\n",
    "              'attributes.debate.transcript_url',\n",
    "              'attributes.debate.video_url',\n",
    "              'attributes.debate_outcome_at',\n",
    "              'attributes.debate_threshold_reached_at']\n",
    "out_list = extract_specific_attribute(full_file_paths, attributes)\n",
    "len(out_list)"
   ]
  }
 ],
 "metadata": {
  "kernelspec": {
   "display_name": "gov_uk_env",
   "language": "python",
   "name": "gov_uk_env"
  },
  "language_info": {
   "codemirror_mode": {
    "name": "ipython",
    "version": 3
   },
   "file_extension": ".py",
   "mimetype": "text/x-python",
   "name": "python",
   "nbconvert_exporter": "python",
   "pygments_lexer": "ipython3",
   "version": "3.9.5"
  }
 },
 "nbformat": 4,
 "nbformat_minor": 5
}
