{
 "cells": [
  {
   "cell_type": "code",
   "execution_count": 1,
   "id": "164e632f",
   "metadata": {},
   "outputs": [],
   "source": [
    "%run petition_utils.ipynb "
   ]
  },
  {
   "cell_type": "markdown",
   "id": "38760331",
   "metadata": {},
   "source": [
    "Number of votes over the history of online petitions"
   ]
  },
  {
   "cell_type": "code",
   "execution_count": 2,
   "id": "f5a78b3d",
   "metadata": {},
   "outputs": [],
   "source": [
    "types = ['archived']#,'closed']\n",
    "base_path = '/home/will/Datasets/petitions_website/'\n",
    "attributes = ['id','attributes.signature_count', 'attributes.created_at']\n",
    "full_file_paths = get_files_in_folders(base_path, types)\n",
    "full_df = extract_specific_attribute(full_file_paths, attributes)\n"
   ]
  },
  {
   "cell_type": "code",
   "execution_count": 4,
   "id": "03b10822",
   "metadata": {},
   "outputs": [
    {
     "data": {
      "text/html": [
       "<div>\n",
       "<style scoped>\n",
       "    .dataframe tbody tr th:only-of-type {\n",
       "        vertical-align: middle;\n",
       "    }\n",
       "\n",
       "    .dataframe tbody tr th {\n",
       "        vertical-align: top;\n",
       "    }\n",
       "\n",
       "    .dataframe thead th {\n",
       "        text-align: right;\n",
       "    }\n",
       "</style>\n",
       "<table border=\"1\" class=\"dataframe\">\n",
       "  <thead>\n",
       "    <tr style=\"text-align: right;\">\n",
       "      <th></th>\n",
       "      <th>id</th>\n",
       "      <th>attributes.signature_count</th>\n",
       "    </tr>\n",
       "  </thead>\n",
       "  <tbody>\n",
       "    <tr>\n",
       "      <th>count</th>\n",
       "      <td>28054.000000</td>\n",
       "      <td>28054.000000</td>\n",
       "    </tr>\n",
       "    <tr>\n",
       "      <th>mean</th>\n",
       "      <td>239486.296321</td>\n",
       "      <td>547.370108</td>\n",
       "    </tr>\n",
       "    <tr>\n",
       "      <th>std</th>\n",
       "      <td>23334.482062</td>\n",
       "      <td>4626.086257</td>\n",
       "    </tr>\n",
       "    <tr>\n",
       "      <th>min</th>\n",
       "      <td>200000.000000</td>\n",
       "      <td>0.000000</td>\n",
       "    </tr>\n",
       "    <tr>\n",
       "      <th>25%</th>\n",
       "      <td>219334.000000</td>\n",
       "      <td>7.000000</td>\n",
       "    </tr>\n",
       "    <tr>\n",
       "      <th>50%</th>\n",
       "      <td>239582.000000</td>\n",
       "      <td>13.000000</td>\n",
       "    </tr>\n",
       "    <tr>\n",
       "      <th>75%</th>\n",
       "      <td>260028.500000</td>\n",
       "      <td>21.000000</td>\n",
       "    </tr>\n",
       "    <tr>\n",
       "      <th>max</th>\n",
       "      <td>278910.000000</td>\n",
       "      <td>115999.000000</td>\n",
       "    </tr>\n",
       "  </tbody>\n",
       "</table>\n",
       "</div>"
      ],
      "text/plain": [
       "                  id  attributes.signature_count\n",
       "count   28054.000000                28054.000000\n",
       "mean   239486.296321                  547.370108\n",
       "std     23334.482062                 4626.086257\n",
       "min    200000.000000                    0.000000\n",
       "25%    219334.000000                    7.000000\n",
       "50%    239582.000000                   13.000000\n",
       "75%    260028.500000                   21.000000\n",
       "max    278910.000000               115999.000000"
      ]
     },
     "execution_count": 4,
     "metadata": {},
     "output_type": "execute_result"
    }
   ],
   "source": [
    "full_df.describe()"
   ]
  },
  {
   "cell_type": "code",
   "execution_count": 5,
   "id": "e64bf067",
   "metadata": {},
   "outputs": [],
   "source": [
    "full_df['weekly_sum_of_signatures'] = full_df['attributes.signature_count'].rolling('7D', closed='left').sum()"
   ]
  },
  {
   "cell_type": "code",
   "execution_count": 6,
   "id": "8049161f",
   "metadata": {},
   "outputs": [
    {
     "name": "stdout",
     "output_type": "stream",
     "text": [
      "Using matplotlib backend: <object object at 0x7ff8179619d0>\n"
     ]
    },
    {
     "data": {
      "text/plain": [
       "Text(0.5, 0, 'Date')"
      ]
     },
     "execution_count": 6,
     "metadata": {},
     "output_type": "execute_result"
    }
   ],
   "source": [
    "%matplotlib\n",
    "import matplotlib.pyplot as plt\n",
    "fig, ax = plt.subplots(2,1, figsize=(20,10), sharex=True)\n",
    "\n",
    "full_df[['weekly_sum_of_signatures']].plot(rot=45,alpha=0.5, ax=ax[0], color='r')\n",
    "full_df[['attributes.signature_count']].plot(rot=45,alpha=0.5, ax=ax[1], color='b')\n",
    "\n",
    "ax[1].set_ylabel('Number of votes')\n",
    "ax[0].set_ylabel('Number of votes')\n",
    "ax[1].set_xlabel('Date')"
   ]
  },
  {
   "cell_type": "markdown",
   "id": "9c6bdc80",
   "metadata": {},
   "source": [
    "List all attributes"
   ]
  },
  {
   "cell_type": "code",
   "execution_count": null,
   "id": "1e91a3d1",
   "metadata": {},
   "outputs": [],
   "source": [
    "types = ['archived','closed']\n",
    "base_path = '/home/william/Datasets/petitions_website/'\n",
    "full_file_paths = get_files_in_folders(base_path, types)\n",
    "\n",
    "def list_all_attributes(full_file_paths):\n",
    "    list_of_attributes = []\n",
    "    for data_file in full_file_paths:\n",
    "        #print(data_file)\n",
    "        df = convert_json_to_df(data_file).dropna(how='all', axis=1)\n",
    "        #print(df.columns)\n",
    "        list_of_attributes.extend(list(df.columns))\n",
    "    return set(list_of_attributes)\n",
    "\n",
    "ls_attr = list_all_attributes(full_file_paths)\n",
    "ls_attr"
   ]
  },
  {
   "cell_type": "markdown",
   "id": "0662ea71",
   "metadata": {},
   "source": [
    "Number of debated petitions"
   ]
  },
  {
   "cell_type": "code",
   "execution_count": null,
   "id": "b2859fd5",
   "metadata": {},
   "outputs": [],
   "source": [
    "types = ['archived','closed']\n",
    "base_path = '/home/william/Datasets/petitions_website/'\n",
    "attributes = ['id','attributes.signature_count', 'attributes.created_at', 'attributes.scheduled_debate_date',  \n",
    "              'attributes.debate.debate_pack_url',\n",
    "              'attributes.debate.debated_on',\n",
    "              'attributes.debate.overview',\n",
    "              'attributes.debate.transcript_url',\n",
    "              'attributes.debate.video_url',\n",
    "              'attributes.debate_outcome_at',\n",
    "              'attributes.debate_threshold_reached_at']\n",
    "full_file_paths = get_files_in_folders(base_path, types)\n",
    "full_df = extract_specific_attribute(full_file_paths, attributes)\n"
   ]
  },
  {
   "cell_type": "code",
   "execution_count": null,
   "id": "ae2f7983",
   "metadata": {},
   "outputs": [],
   "source": [
    "rint(\"Total debated petitions since 2017 :\", len(full_df['attributes.scheduled_debate_date'].dropna()))\n",
    "\n",
    "\"\"\"\n",
    "Except, the gov website has 71 parliamentary petitions debated since June 2020. Therefore this attribute isn't\n",
    "reliable.\n",
    "\n",
    "Try others...\n",
    "\"\"\"\n",
    "\n",
    "for col in full_df.columns:\n",
    "    print(col, len(full_df[col].dropna()))"
   ]
  },
  {
   "cell_type": "markdown",
   "id": "fec38bee",
   "metadata": {},
   "source": [
    "Validate no data is lost during preprocessing"
   ]
  },
  {
   "cell_type": "code",
   "execution_count": null,
   "id": "6aef90b2",
   "metadata": {},
   "outputs": [],
   "source": [
    "types = ['archived','closed']\n",
    "base_path = '/home/william/Datasets/petitions_website/'\n",
    "attributes = ['id','attributes.signature_count', 'attributes.created_at']\n",
    "full_file_paths = get_files_in_folders(base_path, types)\n",
    "len(full_file_paths)"
   ]
  },
  {
   "cell_type": "code",
   "execution_count": null,
   "id": "a8f578ae",
   "metadata": {},
   "outputs": [],
   "source": [
    "\n",
    "\n",
    "attributes = ['attributes.scheduled_debate_date',  \n",
    "              'attributes.debate.debate_pack_url',\n",
    "              'attributes.debate.debated_on',\n",
    "              'attributes.debate.overview',\n",
    "              'attributes.debate.transcript_url',\n",
    "              'attributes.debate.video_url',\n",
    "              'attributes.debate_outcome_at',\n",
    "              'attributes.debate_threshold_reached_at']\n",
    "out_list = extract_specific_attribute(full_file_paths, attributes)\n",
    "len(out_list)"
   ]
  },
  {
   "cell_type": "code",
   "execution_count": null,
   "id": "efce51ef",
   "metadata": {},
   "outputs": [],
   "source": []
  },
  {
   "cell_type": "code",
   "execution_count": null,
   "id": "ca0419fe",
   "metadata": {},
   "outputs": [],
   "source": [
    "# filter out interesting features\n",
    "features = ['id','attributes.signature_count','attributes.created_at','attributes.updated_at', 'attributes.opened_at', 'attributes.closed_at', 'attributes.moderation_threshold_reached_at',\n",
    "       'attributes.response_threshold_reached_at','attributes.government_response_at', 'attributes.government_response.summary',\n",
    "       'attributes.background','attributes.rejection','attributes.debate_threshold_reached_at', 'attributes.scheduled_debate_date', 'attributes.debate_outcome_at']\n",
    "\n",
    "df = data[features]"
   ]
  },
  {
   "cell_type": "code",
   "execution_count": null,
   "id": "3b2ed20b",
   "metadata": {},
   "outputs": [],
   "source": [
    "df_sub = df[['attributes.signature_count', 'attributes.debate_outcome_at']].set_index('attributes.debate_outcome_at')\n",
    "# Converting the index as date\n",
    "df_sub.index = pd.to_datetime(df_sub.index)\n",
    "df_sub.plot(figsize=(20,10),style='o',alpha=0.5,markersize=20)"
   ]
  },
  {
   "cell_type": "code",
   "execution_count": null,
   "id": "9557f9e1",
   "metadata": {},
   "outputs": [],
   "source": [
    "null_features = ['attributes.rejected_at','attributes.rejection']"
   ]
  },
  {
   "cell_type": "code",
   "execution_count": null,
   "id": "6d226029",
   "metadata": {},
   "outputs": [],
   "source": [
    "df[['id', 'attributes.government_response.summary',]].set_index('id').to_csv('/home/william/Datasets/petitions_debated_responses.csv')"
   ]
  },
  {
   "cell_type": "markdown",
   "id": "f7026f5d",
   "metadata": {},
   "source": [
    "Rejected Petitions in Parliament (Reasons for rejection)\n"
   ]
  },
  {
   "cell_type": "code",
   "execution_count": null,
   "id": "4317987c",
   "metadata": {},
   "outputs": [],
   "source": [
    "data_file = '/home/william/Datasets/petitions_rejected.json'\n",
    "df = convert_json_to_df(data_file)"
   ]
  },
  {
   "cell_type": "code",
   "execution_count": null,
   "id": "c0d5c6d9",
   "metadata": {},
   "outputs": [],
   "source": [
    "df['attributes.rejection.code'].unique()#['attributes.rejection.details']"
   ]
  },
  {
   "cell_type": "code",
   "execution_count": null,
   "id": "32140a35",
   "metadata": {},
   "outputs": [],
   "source": [
    "pd.value_counts(df['attributes.rejection.code'].values.ravel())"
   ]
  },
  {
   "cell_type": "code",
   "execution_count": null,
   "id": "c868ba4c",
   "metadata": {},
   "outputs": [],
   "source": [
    "import numpy as np\n",
    "np.isscalar(0)"
   ]
  },
  {
   "cell_type": "code",
   "execution_count": null,
   "id": "9355c450",
   "metadata": {},
   "outputs": [],
   "source": []
  },
  {
   "cell_type": "code",
   "execution_count": null,
   "id": "f2a14aca",
   "metadata": {},
   "outputs": [],
   "source": [
    "pd.value_counts(list_of_rejection_codes) "
   ]
  },
  {
   "cell_type": "code",
   "execution_count": null,
   "id": "34bfe204",
   "metadata": {},
   "outputs": [],
   "source": [
    "df = convert_json_to_df(save_loc+data_files[0])"
   ]
  },
  {
   "cell_type": "code",
   "execution_count": null,
   "id": "6d52c64f",
   "metadata": {},
   "outputs": [],
   "source": [
    "df = df.drop(columns = ['type','attributes.rejection'])"
   ]
  },
  {
   "cell_type": "code",
   "execution_count": null,
   "id": "24970f1a",
   "metadata": {},
   "outputs": [],
   "source": [
    "df.columns"
   ]
  },
  {
   "cell_type": "code",
   "execution_count": null,
   "id": "5b6b1226",
   "metadata": {},
   "outputs": [],
   "source": [
    "df['attributes.action'][0]"
   ]
  },
  {
   "cell_type": "code",
   "execution_count": null,
   "id": "4793d9fa",
   "metadata": {},
   "outputs": [],
   "source": [
    "list_of_response_worthy_petitions = []\n",
    "for data_file in data_files:\n",
    "    df = convert_json_to_df(save_loc + data_file)\n",
    "    df = df[df['attributes.signature_count']>10000]\n",
    "    if len(df) > 0:\n",
    "        list_of_response_worthy_petitions.append(df)"
   ]
  },
  {
   "cell_type": "code",
   "execution_count": null,
   "id": "878231d4",
   "metadata": {},
   "outputs": [],
   "source": [
    "df = pd.concat(list_of_response_worthy_petitions)"
   ]
  },
  {
   "cell_type": "code",
   "execution_count": null,
   "id": "385d5746",
   "metadata": {},
   "outputs": [],
   "source": [
    "df.columns"
   ]
  },
  {
   "cell_type": "code",
   "execution_count": null,
   "id": "3118e5fd",
   "metadata": {},
   "outputs": [],
   "source": [
    "df['attributes.government_response.summary'].unique()"
   ]
  },
  {
   "cell_type": "code",
   "execution_count": null,
   "id": "bd5074a9",
   "metadata": {},
   "outputs": [],
   "source": [
    "df['attributes.rejected_at'].unique()"
   ]
  },
  {
   "cell_type": "code",
   "execution_count": null,
   "id": "d5e6ac53",
   "metadata": {},
   "outputs": [],
   "source": [
    "from selenium import webdriver\n",
    "import requests\n",
    "import json\n",
    "\n",
    "# To prevent download dialog\n",
    "profile = webdriver.FirefoxProfile()\n",
    "profile.set_preference('browser.download.folderList', 2) # custom location\n",
    "profile.set_preference('browser.download.manager.showWhenStarting', False)\n",
    "profile.set_preference('browser.download.dir', '/home/william/Datasets/petitions_website')\n",
    "profile.set_preference('browser.helperApps.neverAsk.saveToDisk', 'text/csv')\n",
    "\n",
    "browser = webdriver.Firefox(profile,executable_path='/home/william/Webdriver/bin/geckodriver')\n",
    "url = 'https://ra.co/events/1326673'\n",
    "browser.get(url)"
   ]
  },
  {
   "cell_type": "code",
   "execution_count": null,
   "id": "d6025fd2",
   "metadata": {},
   "outputs": [],
   "source": [
    "from bs4 import BeautifulSoup\n",
    "html = browser.page_source\n",
    "soup = BeautifulSoup(html)\n",
    "\n",
    "for tag in soup.find_all('input'):\n",
    "    print(tag.text)\n"
   ]
  },
  {
   "cell_type": "code",
   "execution_count": null,
   "id": "7538c6cb",
   "metadata": {},
   "outputs": [],
   "source": [
    "browser.find_elements_by_xpath(\"/html/body/div[1]/div/div/ul/li[1]/ul/li/ul[1]\")"
   ]
  },
  {
   "cell_type": "code",
   "execution_count": null,
   "id": "4a9e3282",
   "metadata": {},
   "outputs": [],
   "source": [
    "import os\n",
    "save_loc = '/home/william/Datasets/petitions_website/closed/'\n",
    "data_files = os.listdir(save_loc)"
   ]
  },
  {
   "cell_type": "code",
   "execution_count": null,
   "id": "9bdf9e69",
   "metadata": {},
   "outputs": [],
   "source": [
    "\n",
    "list_of_close_dates = []\n",
    "for data_file in data_files:\n",
    "    df = convert_json_to_df(save_loc + data_file)\n",
    "    df = df[['attributes.signature_count','attributes.closed_at']]\n",
    "    if len(df) > 0:\n",
    "        list_of_close_dates.append(df)"
   ]
  },
  {
   "cell_type": "code",
   "execution_count": null,
   "id": "06ec8d8b",
   "metadata": {},
   "outputs": [],
   "source": [
    "df = pd.concat(list_of_close_dates)\n",
    "df['attributes.closed_at'] = pd.to_datetime(df['attributes.closed_at'])\n",
    "df = df.set_index('attributes.closed_at')\n",
    "df = df.sort_index()\n",
    "df_rolled = df.rolling('14D', min_periods=1).mean()"
   ]
  },
  {
   "cell_type": "code",
   "execution_count": null,
   "id": "b43e034d",
   "metadata": {},
   "outputs": [],
   "source": [
    "ax = df.plot(marker='x',linestyle='', figsize=(20,15), markersize = 10)\n",
    "ax.legend()\n",
    "df['threshold'] = 100000\n",
    "ax.plot(df['threshold'],color='red')\n",
    "ax.plot(df_rolled,color='blue')\n",
    "ax.set_xlabel('Date', fontsize=20)\n",
    "ax.set_ylabel('Number of Votes', fontsize=20)\n",
    "ax.tick_params(axis = 'both', which = 'major', labelsize = 15)\n",
    "ax.tick_params(axis = 'both', which = 'minor', labelsize = 10)"
   ]
  },
  {
   "cell_type": "code",
   "execution_count": null,
   "id": "c442a1c6",
   "metadata": {},
   "outputs": [],
   "source": [
    "# df_times = df[['attributes.signature_count', 'attributes.created_at',\n",
    "#        'attributes.updated_at',\n",
    "#        'attributes.opened_at', 'attributes.closed_at',\n",
    "#        'attributes.moderation_threshold_reached_at']]\n",
    "\n"
   ]
  },
  {
   "cell_type": "code",
   "execution_count": null,
   "id": "4f91c6e3",
   "metadata": {},
   "outputs": [],
   "source": [
    "df_times['attributes.closed_at'] = pd.to_datetime(df_times['attributes.closed_at'])"
   ]
  },
  {
   "cell_type": "code",
   "execution_count": null,
   "id": "29b270dd",
   "metadata": {},
   "outputs": [],
   "source": [
    "df_times.set_index('attributes.closed_at').plot(marker='x',linestyle='')"
   ]
  },
  {
   "cell_type": "code",
   "execution_count": null,
   "id": "629129ab",
   "metadata": {},
   "outputs": [],
   "source": [
    "df_times"
   ]
  },
  {
   "cell_type": "code",
   "execution_count": null,
   "id": "ed0b5f44",
   "metadata": {},
   "outputs": [],
   "source": []
  },
  {
   "cell_type": "code",
   "execution_count": null,
   "id": "1254bf41",
   "metadata": {},
   "outputs": [],
   "source": []
  },
  {
   "cell_type": "code",
   "execution_count": null,
   "id": "ec8eb3c6",
   "metadata": {},
   "outputs": [],
   "source": []
  },
  {
   "cell_type": "code",
   "execution_count": null,
   "id": "d5fc0b0d",
   "metadata": {},
   "outputs": [],
   "source": []
  },
  {
   "cell_type": "code",
   "execution_count": null,
   "id": "8036293b",
   "metadata": {},
   "outputs": [],
   "source": []
  },
  {
   "cell_type": "code",
   "execution_count": null,
   "id": "609df056",
   "metadata": {},
   "outputs": [],
   "source": []
  }
 ],
 "metadata": {
  "kernelspec": {
   "display_name": "gov_uk_env",
   "language": "python",
   "name": "gov_uk_env"
  },
  "language_info": {
   "codemirror_mode": {
    "name": "ipython",
    "version": 3
   },
   "file_extension": ".py",
   "mimetype": "text/x-python",
   "name": "python",
   "nbconvert_exporter": "python",
   "pygments_lexer": "ipython3",
   "version": "3.9.5"
  }
 },
 "nbformat": 4,
 "nbformat_minor": 5
}
