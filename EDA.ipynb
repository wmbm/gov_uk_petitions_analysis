{
 "cells": [
  {
   "cell_type": "code",
   "execution_count": 1,
   "id": "4602d330",
   "metadata": {},
   "outputs": [],
   "source": [
    "%run petition_utils.ipynb "
   ]
  },
  {
   "cell_type": "markdown",
   "id": "38760331",
   "metadata": {},
   "source": [
    "Number of votes over the history of online petitions"
   ]
  },
  {
   "cell_type": "code",
   "execution_count": 2,
   "id": "f5a78b3d",
   "metadata": {},
   "outputs": [],
   "source": [
    "types = ['archived']#,'closed']\n",
    "base_path = '/home/will/Datasets/petitions_website/'\n",
    "attributes = ['id','attributes.signature_count', 'attributes.created_at']\n",
    "full_file_paths = get_files_in_folders(base_path, types)\n",
    "full_df = extract_specific_attribute(full_file_paths, attributes)\n"
   ]
  },
  {
   "cell_type": "code",
   "execution_count": 4,
   "id": "d68713fc",
   "metadata": {},
   "outputs": [
    {
     "data": {
      "text/html": [
       "<div>\n",
       "<style scoped>\n",
       "    .dataframe tbody tr th:only-of-type {\n",
       "        vertical-align: middle;\n",
       "    }\n",
       "\n",
       "    .dataframe tbody tr th {\n",
       "        vertical-align: top;\n",
       "    }\n",
       "\n",
       "    .dataframe thead th {\n",
       "        text-align: right;\n",
       "    }\n",
       "</style>\n",
       "<table border=\"1\" class=\"dataframe\">\n",
       "  <thead>\n",
       "    <tr style=\"text-align: right;\">\n",
       "      <th></th>\n",
       "      <th>id</th>\n",
       "      <th>attributes.signature_count</th>\n",
       "    </tr>\n",
       "  </thead>\n",
       "  <tbody>\n",
       "    <tr>\n",
       "      <th>count</th>\n",
       "      <td>28054.000000</td>\n",
       "      <td>28054.000000</td>\n",
       "    </tr>\n",
       "    <tr>\n",
       "      <th>mean</th>\n",
       "      <td>239486.296321</td>\n",
       "      <td>547.370108</td>\n",
       "    </tr>\n",
       "    <tr>\n",
       "      <th>std</th>\n",
       "      <td>23334.482062</td>\n",
       "      <td>4626.086257</td>\n",
       "    </tr>\n",
       "    <tr>\n",
       "      <th>min</th>\n",
       "      <td>200000.000000</td>\n",
       "      <td>0.000000</td>\n",
       "    </tr>\n",
       "    <tr>\n",
       "      <th>25%</th>\n",
       "      <td>219334.000000</td>\n",
       "      <td>7.000000</td>\n",
       "    </tr>\n",
       "    <tr>\n",
       "      <th>50%</th>\n",
       "      <td>239582.000000</td>\n",
       "      <td>13.000000</td>\n",
       "    </tr>\n",
       "    <tr>\n",
       "      <th>75%</th>\n",
       "      <td>260028.500000</td>\n",
       "      <td>21.000000</td>\n",
       "    </tr>\n",
       "    <tr>\n",
       "      <th>max</th>\n",
       "      <td>278910.000000</td>\n",
       "      <td>115999.000000</td>\n",
       "    </tr>\n",
       "  </tbody>\n",
       "</table>\n",
       "</div>"
      ],
      "text/plain": [
       "                  id  attributes.signature_count\n",
       "count   28054.000000                28054.000000\n",
       "mean   239486.296321                  547.370108\n",
       "std     23334.482062                 4626.086257\n",
       "min    200000.000000                    0.000000\n",
       "25%    219334.000000                    7.000000\n",
       "50%    239582.000000                   13.000000\n",
       "75%    260028.500000                   21.000000\n",
       "max    278910.000000               115999.000000"
      ]
     },
     "execution_count": 4,
     "metadata": {},
     "output_type": "execute_result"
    }
   ],
   "source": [
    "full_df.describe()"
   ]
  },
  {
   "cell_type": "code",
   "execution_count": 5,
   "id": "51a6d5c8",
   "metadata": {},
   "outputs": [],
   "source": [
    "full_df['weekly_sum_of_signatures'] = full_df['attributes.signature_count'].rolling('7D', closed='left').sum()"
   ]
  },
  {
   "cell_type": "code",
   "execution_count": 6,
   "id": "8049161f",
   "metadata": {},
   "outputs": [
    {
     "name": "stdout",
     "output_type": "stream",
     "text": [
      "Using matplotlib backend: <object object at 0x7ff8179619d0>\n"
     ]
    },
    {
     "data": {
      "text/plain": [
       "Text(0.5, 0, 'Date')"
      ]
     },
     "execution_count": 6,
     "metadata": {},
     "output_type": "execute_result"
    }
   ],
   "source": [
    "%matplotlib\n",
    "import matplotlib.pyplot as plt\n",
    "fig, ax = plt.subplots(2,1, figsize=(20,10), sharex=True)\n",
    "\n",
    "full_df[['weekly_sum_of_signatures']].plot(rot=45,alpha=0.5, ax=ax[0], color='r')\n",
    "full_df[['attributes.signature_count']].plot(rot=45,alpha=0.5, ax=ax[1], color='b')\n",
    "\n",
    "ax[1].set_ylabel('Number of votes')\n",
    "ax[0].set_ylabel('Number of votes')\n",
    "ax[1].set_xlabel('Date')"
   ]
  },
  {
   "cell_type": "markdown",
   "id": "9c6bdc80",
   "metadata": {},
   "source": [
    "List all attributes"
   ]
  },
  {
   "cell_type": "code",
   "execution_count": null,
   "id": "1e91a3d1",
   "metadata": {},
   "outputs": [],
   "source": [
    "types = ['archived','closed']\n",
    "base_path = '/home/william/Datasets/petitions_website/'\n",
    "full_file_paths = get_files_in_folders(base_path, types)\n",
    "\n",
    "def list_all_attributes(full_file_paths):\n",
    "    list_of_attributes = []\n",
    "    for data_file in full_file_paths:\n",
    "        #print(data_file)\n",
    "        df = convert_json_to_df(data_file).dropna(how='all', axis=1)\n",
    "        #print(df.columns)\n",
    "        list_of_attributes.extend(list(df.columns))\n",
    "    return set(list_of_attributes)\n",
    "\n",
    "ls_attr = list_all_attributes(full_file_paths)\n",
    "ls_attr"
   ]
  },
  {
   "cell_type": "markdown",
   "id": "0662ea71",
   "metadata": {},
   "source": [
    "Number of debated petitions"
   ]
  },
  {
   "cell_type": "code",
   "execution_count": null,
   "id": "b2859fd5",
   "metadata": {},
   "outputs": [],
   "source": [
    "types = ['archived','closed']\n",
    "base_path = '/home/william/Datasets/petitions_website/'\n",
    "attributes = ['id','attributes.signature_count', 'attributes.created_at', 'attributes.scheduled_debate_date',  \n",
    "              'attributes.debate.debate_pack_url',\n",
    "              'attributes.debate.debated_on',\n",
    "              'attributes.debate.overview',\n",
    "              'attributes.debate.transcript_url',\n",
    "              'attributes.debate.video_url',\n",
    "              'attributes.debate_outcome_at',\n",
    "              'attributes.debate_threshold_reached_at']\n",
    "full_file_paths = get_files_in_folders(base_path, types)\n",
    "full_df = extract_specific_attribute(full_file_paths, attributes)\n"
   ]
  },
  {
   "cell_type": "code",
   "execution_count": null,
   "id": "ae2f7983",
   "metadata": {},
   "outputs": [],
   "source": [
    "rint(\"Total debated petitions since 2017 :\", len(full_df['attributes.scheduled_debate_date'].dropna()))\n",
    "\n",
    "\"\"\"\n",
    "Except, the gov website has 71 parliamentary petitions debated since June 2020. Therefore this attribute isn't\n",
    "reliable.\n",
    "\n",
    "Try others...\n",
    "\"\"\"\n",
    "\n",
    "for col in full_df.columns:\n",
    "    print(col, len(full_df[col].dropna()))"
   ]
  },
  {
   "cell_type": "markdown",
   "id": "fec38bee",
   "metadata": {},
   "source": [
    "Validate no data is lost during preprocessing"
   ]
  },
  {
   "cell_type": "code",
   "execution_count": null,
   "id": "6aef90b2",
   "metadata": {},
   "outputs": [],
   "source": [
    "types = ['archived','closed']\n",
    "base_path = '/home/william/Datasets/petitions_website/'\n",
    "attributes = ['id','attributes.signature_count', 'attributes.created_at']\n",
    "full_file_paths = get_files_in_folders(base_path, types)\n",
    "len(full_file_paths)"
   ]
  },
  {
   "cell_type": "code",
   "execution_count": null,
   "id": "a8f578ae",
   "metadata": {},
   "outputs": [],
   "source": [
    "\n",
    "\n",
    "attributes = ['attributes.scheduled_debate_date',  \n",
    "              'attributes.debate.debate_pack_url',\n",
    "              'attributes.debate.debated_on',\n",
    "              'attributes.debate.overview',\n",
    "              'attributes.debate.transcript_url',\n",
    "              'attributes.debate.video_url',\n",
    "              'attributes.debate_outcome_at',\n",
    "              'attributes.debate_threshold_reached_at']\n",
    "out_list = extract_specific_attribute(full_file_paths, attributes)\n",
    "len(out_list)"
   ]
  }
 ],
 "metadata": {
  "kernelspec": {
   "display_name": "gov_uk_env",
   "language": "python",
   "name": "gov_uk_env"
  },
  "language_info": {
   "codemirror_mode": {
    "name": "ipython",
    "version": 3
   },
   "file_extension": ".py",
   "mimetype": "text/x-python",
   "name": "python",
   "nbconvert_exporter": "python",
   "pygments_lexer": "ipython3",
   "version": "3.9.5"
  }
 },
 "nbformat": 4,
 "nbformat_minor": 5
}
